{
 "cells": [
  {
   "cell_type": "code",
   "execution_count": 10,
   "metadata": {},
   "outputs": [
    {
     "data": {
      "text/plain": [
       "((134, 19), (66, 19), (134,), (66,))"
      ]
     },
     "execution_count": 10,
     "metadata": {},
     "output_type": "execute_result"
    }
   ],
   "source": [
    "import numpy as np\n",
    "import pandas as pd\n",
    "import matplotlib.pyplot as plt\n",
    "\n",
    "from sklearn.preprocessing import PolynomialFeatures\n",
    "from sklearn.model_selection import train_test_split\n",
    "\n",
    "df = pd.read_csv(\"../data/Advertising.csv\", index_col=0)\n",
    "\n",
    "X, y = df.drop(\"Sales\", axis=\"columns\"), df[\"Sales\"]\n",
    "\n",
    "model_polynomial = PolynomialFeatures(3, include_bias=False)\n",
    "poly_feature = model_polynomial.fit_transform(X)\n",
    "\n",
    "\n",
    "X_train, X_test, y_train, y_test = train_test_split(poly_feature, y, test_size=0.33, random_state=1337)\n",
    "\n",
    "X_train.shape, X_test.shape, y_train.shape, y_test.shape"
   ]
  },
  {
   "cell_type": "code",
   "execution_count": 18,
   "metadata": {},
   "outputs": [
    {
     "name": "stdout",
     "output_type": "stream",
     "text": [
      "-0.00, 0.03\n"
     ]
    }
   ],
   "source": [
    "from sklearn.preprocessing import StandardScaler\n",
    "\n",
    "scaler = StandardScaler()\n",
    "\n",
    "scaled_X_train = scaler.fit_transform(X_train)\n",
    "scaled_X_test = scaler.transform(X_test)\n",
    "\n",
    "\n",
    "\n",
    "print(f\"{scaled_X_train.mean():.2f}, {scaled_X_test.mean():.2f}\")     # Så nära 0 som möjligt är bra\n",
    "\n",
    "# Datan är nu skalad"
   ]
  },
  {
   "cell_type": "code",
   "execution_count": 20,
   "metadata": {},
   "outputs": [
    {
     "data": {
      "text/plain": [
       "(0.24959538036150153, 0.49959521651182925)"
      ]
     },
     "execution_count": 20,
     "metadata": {},
     "output_type": "execute_result"
    }
   ],
   "source": [
    "# Ridge regression för att minska variansen\n",
    "\n",
    "from sklearn.linear_model import Ridge \n",
    "from sklearn.metrics import mean_absolute_error, mean_squared_error\n",
    "\n",
    "# L2 regularization\n",
    "model_ridge = Ridge(alpha=0.1)\n",
    "model_ridge.fit(scaled_X_train, y_train) # .fit innebär att man tränar algoritmen på datan\n",
    "\n",
    "# Y_hat = Y_pred\n",
    "y_hat = model_ridge.predict(scaled_X_test) # Y_hat = en vektor på förutsägelsen\n",
    "\n",
    "MSE = mean_squared_error(y_test, y_hat) # Avståndet mellan  y_test och y_hat i kvadrat, (felet)\n",
    "RMSE = np.sqrt(MSE) # Units, i detta exempel en halv unit i fel\n",
    "\n",
    "\n",
    "MSE, RMSE\n",
    "\n",
    "\n",
    "\n"
   ]
  },
  {
   "cell_type": "code",
   "execution_count": null,
   "metadata": {},
   "outputs": [],
   "source": [
    "from sklearn.linear_model import Lasso\n"
   ]
  }
 ],
 "metadata": {
  "kernelspec": {
   "display_name": "ML-Rasmus-Berghall-Q4tY2P30",
   "language": "python",
   "name": "python3"
  },
  "language_info": {
   "codemirror_mode": {
    "name": "ipython",
    "version": 3
   },
   "file_extension": ".py",
   "mimetype": "text/x-python",
   "name": "python",
   "nbconvert_exporter": "python",
   "pygments_lexer": "ipython3",
   "version": "3.12.2"
  }
 },
 "nbformat": 4,
 "nbformat_minor": 2
}
